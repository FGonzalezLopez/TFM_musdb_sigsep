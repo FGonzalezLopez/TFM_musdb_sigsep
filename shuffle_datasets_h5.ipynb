{
 "cells": [
  {
   "cell_type": "code",
   "execution_count": 1,
   "id": "590b2410-869c-4172-b0ae-4204ac9e1084",
   "metadata": {},
   "outputs": [
    {
     "name": "stderr",
     "output_type": "stream",
     "text": [
      "<ipython-input-1-05bb79574f6a>:3: TqdmExperimentalWarning: Using `tqdm.autonotebook.tqdm` in notebook mode. Use `tqdm.tqdm` instead to force console mode (e.g. in jupyter console)\n",
      "  from tqdm.autonotebook import tqdm\n"
     ]
    }
   ],
   "source": [
    "import numpy as np\n",
    "import musdb\n",
    "from tqdm.autonotebook import tqdm\n",
    "import h5py"
   ]
  },
  {
   "cell_type": "code",
   "execution_count": 2,
   "id": "7da8c0d0-ff49-425c-85dc-f79680ddb1a2",
   "metadata": {},
   "outputs": [],
   "source": [
    "data_path = \"/home/paco/TFM/data/\""
   ]
  },
  {
   "cell_type": "code",
   "execution_count": 3,
   "id": "8718cd88-81f9-4518-b8fa-8ebd5df634a1",
   "metadata": {},
   "outputs": [],
   "source": [
    "n_splits = 10"
   ]
  },
  {
   "cell_type": "code",
   "execution_count": 4,
   "id": "0039f9ea-a788-42bb-8925-a7345b258a47",
   "metadata": {},
   "outputs": [],
   "source": [
    "fi = h5py.File(data_path+'train.h5', mode='r')\n",
    "fo = h5py.File(data_path+'train_shuffled.h5', mode='w')"
   ]
  },
  {
   "cell_type": "code",
   "execution_count": 5,
   "id": "1916c578-65e8-43a4-a7b1-f3d5ec43d87e",
   "metadata": {},
   "outputs": [
    {
     "data": {
      "application/vnd.jupyter.widget-view+json": {
       "model_id": "93bfb810996d4086bd5abd42c063a0c7",
       "version_major": 2,
       "version_minor": 0
      },
      "text/plain": [
       "  0%|          | 0/6347 [00:00<?, ?it/s]"
      ]
     },
     "metadata": {},
     "output_type": "display_data"
    }
   ],
   "source": [
    "# Creamos los datasets\n",
    "for key in fi.keys():\n",
    "    in_dataset = fi[key]\n",
    "    out_dataset = fo.create_dataset(key, shape=in_dataset.shape, dtype=np.float32, compression='lzf')\n",
    "\n",
    "# Para rellenarlo, cogemos un rango (partiendo en n_splits el array), leemos del archivo original, hacemos shuffle, y escribimos al nuevo\n",
    "ranges_array = ([(v.min(),v.max()+1) for v in np.array_split(np.arange(fi['source'].shape[0]), n_splits)])\n",
    "np.random.shuffle(ranges_array)\n",
    "\n",
    "# Copiamos los datos\n",
    "progress_bar = tqdm(np.arange(fi['source'].shape[0]))\n",
    "write_idx = 0\n",
    "while(len(ranges_array)):\n",
    "    # Cogemos un rango y lo borramos del array de rangos\n",
    "    idx_init, idx_fin = ranges_array.pop()\n",
    "    # Hacemos shuffle\n",
    "    shuffled_idx = np.random.permutation(idx_fin-idx_init)\n",
    "    for key in fi.keys():\n",
    "        data = fi[key][idx_init:idx_fin]\n",
    "        data = data[shuffled_idx]\n",
    "        fo[key][write_idx:(write_idx+data.shape[0])] = data\n",
    "    write_idx+=data.shape[0]\n",
    "    progress_bar.update(data.shape[0])"
   ]
  },
  {
   "cell_type": "code",
   "execution_count": 6,
   "id": "62272111-17b7-4301-b146-66d1c9d8465b",
   "metadata": {},
   "outputs": [],
   "source": [
    "fi.close()\n",
    "fo.close()"
   ]
  },
  {
   "cell_type": "code",
   "execution_count": 7,
   "id": "bd2e9a1c-3d9a-4ded-bcd2-6a7928f45a56",
   "metadata": {},
   "outputs": [],
   "source": [
    "fi = h5py.File(data_path+'val.h5', mode='r')\n",
    "fo = h5py.File(data_path+'val_shuffled.h5', mode='w')"
   ]
  },
  {
   "cell_type": "code",
   "execution_count": null,
   "id": "15d757e2-c08d-4cc5-8334-f326d709b9b8",
   "metadata": {},
   "outputs": [
    {
     "data": {
      "application/vnd.jupyter.widget-view+json": {
       "model_id": "90a6daf617934442abf848b5f60dc112",
       "version_major": 2,
       "version_minor": 0
      },
      "text/plain": [
       "  0%|          | 0/1227 [00:00<?, ?it/s]"
      ]
     },
     "metadata": {},
     "output_type": "display_data"
    }
   ],
   "source": [
    "# Creamos los datasets\n",
    "for key in fi.keys():\n",
    "    in_dataset = fi[key]\n",
    "    out_dataset = fo.create_dataset(key, shape=in_dataset.shape, dtype=np.float32, compression='lzf')\n",
    "\n",
    "# Para rellenarlo, cogemos un rango (partiendo en n_splits el array), leemos del archivo original, hacemos shuffle, y escribimos al nuevo\n",
    "ranges_array = ([(v.min(),v.max()+1) for v in np.array_split(np.arange(fi['source'].shape[0]), n_splits)])\n",
    "np.random.shuffle(ranges_array)\n",
    "\n",
    "# Copiamos los datos\n",
    "progress_bar = tqdm(np.arange(fi['source'].shape[0]))\n",
    "write_idx = 0\n",
    "while(len(ranges_array)):\n",
    "    # Cogemos un rango y lo borramos del array de rangos\n",
    "    idx_init, idx_fin = ranges_array.pop()\n",
    "    # Hacemos shuffle\n",
    "    shuffled_idx = np.random.permutation(idx_fin-idx_init)\n",
    "    for key in fi.keys():\n",
    "        data = fi[key][idx_init:idx_fin]\n",
    "        data = data[shuffled_idx]\n",
    "        fo[key][write_idx:(write_idx+data.shape[0])] = data\n",
    "    write_idx+=data.shape[0]\n",
    "    progress_bar.update(data.shape[0])"
   ]
  },
  {
   "cell_type": "code",
   "execution_count": null,
   "id": "96d3f498-d5c9-4810-90a4-1e3c7f1eaae9",
   "metadata": {},
   "outputs": [],
   "source": [
    "fi.close()\n",
    "fo.close()"
   ]
  },
  {
   "cell_type": "code",
   "execution_count": null,
   "id": "fd5373f1-857d-45ba-b784-9a61e4f27042",
   "metadata": {},
   "outputs": [],
   "source": []
  },
  {
   "cell_type": "code",
   "execution_count": null,
   "id": "b5be96a0-f1c9-4555-8c08-2d5d393fd9ef",
   "metadata": {},
   "outputs": [],
   "source": [
    "fi = h5py.File(data_path+'test.h5', mode='r')\n",
    "fo = h5py.File(data_path+'test_shuffled.h5', mode='w')"
   ]
  },
  {
   "cell_type": "code",
   "execution_count": null,
   "id": "b48c06d7-44b7-4715-9348-93fce062c96b",
   "metadata": {},
   "outputs": [],
   "source": [
    "# Creamos los datasets\n",
    "for key in fi.keys():\n",
    "    in_dataset = fi[key]\n",
    "    out_dataset = fo.create_dataset(key, shape=in_dataset.shape, dtype=np.float32, compression='lzf')\n",
    "\n",
    "# Para rellenarlo, cogemos un rango (partiendo en n_splits el array), leemos del archivo original, hacemos shuffle, y escribimos al nuevo\n",
    "ranges_array = ([(v.min(),v.max()+1) for v in np.array_split(np.arange(fi['source'].shape[0]), n_splits)])\n",
    "np.random.shuffle(ranges_array)\n",
    "\n",
    "# Copiamos los datos\n",
    "progress_bar = tqdm(np.arange(fi['source'].shape[0]))\n",
    "write_idx = 0\n",
    "while(len(ranges_array)):\n",
    "    # Cogemos un rango y lo borramos del array de rangos\n",
    "    idx_init, idx_fin = ranges_array.pop()\n",
    "    # Hacemos shuffle\n",
    "    shuffled_idx = np.random.permutation(idx_fin-idx_init)\n",
    "    for key in fi.keys():\n",
    "        data = fi[key][idx_init:idx_fin]\n",
    "        data = data[shuffled_idx]\n",
    "        fo[key][write_idx:(write_idx+data.shape[0])] = data\n",
    "    write_idx+=data.shape[0]\n",
    "    progress_bar.update(data.shape[0])"
   ]
  },
  {
   "cell_type": "code",
   "execution_count": null,
   "id": "fda8455a-d8a0-48cc-b0d5-71715f0339e5",
   "metadata": {},
   "outputs": [],
   "source": [
    "fi.close()\n",
    "fo.close()"
   ]
  },
  {
   "cell_type": "code",
   "execution_count": null,
   "id": "267b1751-3976-485f-94e1-c76c09198938",
   "metadata": {},
   "outputs": [],
   "source": []
  }
 ],
 "metadata": {
  "kernelspec": {
   "display_name": "Python 3",
   "language": "python",
   "name": "python3"
  },
  "language_info": {
   "codemirror_mode": {
    "name": "ipython",
    "version": 3
   },
   "file_extension": ".py",
   "mimetype": "text/x-python",
   "name": "python",
   "nbconvert_exporter": "python",
   "pygments_lexer": "ipython3",
   "version": "3.8.11"
  }
 },
 "nbformat": 4,
 "nbformat_minor": 5
}
