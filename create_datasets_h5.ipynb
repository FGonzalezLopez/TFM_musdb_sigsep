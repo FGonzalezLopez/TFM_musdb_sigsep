{
 "cells": [
  {
   "cell_type": "code",
   "execution_count": 1,
   "id": "590b2410-869c-4172-b0ae-4204ac9e1084",
   "metadata": {},
   "outputs": [
    {
     "name": "stderr",
     "output_type": "stream",
     "text": [
      "<ipython-input-1-05bb79574f6a>:3: TqdmExperimentalWarning: Using `tqdm.autonotebook.tqdm` in notebook mode. Use `tqdm.tqdm` instead to force console mode (e.g. in jupyter console)\n",
      "  from tqdm.autonotebook import tqdm\n"
     ]
    }
   ],
   "source": [
    "import numpy as np\n",
    "import musdb\n",
    "from tqdm.autonotebook import tqdm\n",
    "import h5py"
   ]
  },
  {
   "cell_type": "code",
   "execution_count": 2,
   "id": "7da8c0d0-ff49-425c-85dc-f79680ddb1a2",
   "metadata": {},
   "outputs": [],
   "source": [
    "musdb_path = \"/home/paco/TFM/data/MUSDB18/\"\n",
    "data_path = \"/home/paco/TFM/data/\""
   ]
  },
  {
   "cell_type": "code",
   "execution_count": 3,
   "id": "326dc0a6-504f-43be-a9ee-0151f139a192",
   "metadata": {},
   "outputs": [],
   "source": [
    "db = musdb.DB(root=musdb_path, subsets=['train'], split='train')"
   ]
  },
  {
   "cell_type": "code",
   "execution_count": 4,
   "id": "10cd2aa1-9071-473c-a6d7-a28809b2c571",
   "metadata": {},
   "outputs": [
    {
     "data": {
      "application/vnd.jupyter.widget-view+json": {
       "model_id": "6869fff28cd24fe09354817c7e2190f1",
       "version_major": 2,
       "version_minor": 0
      },
      "text/plain": [
       "  0%|          | 0/86 [00:00<?, ?it/s]"
      ]
     },
     "metadata": {},
     "output_type": "display_data"
    },
    {
     "name": "stdout",
     "output_type": "stream",
     "text": [
      "CPU times: user 5.77 s, sys: 7.97 s, total: 13.7 s\n",
      "Wall time: 24.9 s\n"
     ]
    }
   ],
   "source": [
    "%%time\n",
    "\n",
    "# Calculamos el tamaño\n",
    "n_sections = 0\n",
    "for track in tqdm(db):\n",
    "    n_sections += int(len(track.audio)/132300)"
   ]
  },
  {
   "cell_type": "code",
   "execution_count": 5,
   "id": "0039f9ea-a788-42bb-8925-a7345b258a47",
   "metadata": {},
   "outputs": [],
   "source": [
    "f = h5py.File(data_path+'train.h5', mode='a')"
   ]
  },
  {
   "cell_type": "code",
   "execution_count": 6,
   "id": "60c9e6de-9fe1-4bb9-808a-d7f978efc304",
   "metadata": {},
   "outputs": [],
   "source": [
    "source = f.create_dataset('source', shape = (n_sections, 2, 132300), dtype=np.float64, compression='lzf', chunks=True)\n",
    "vocals = f.create_dataset('vocals', shape = (n_sections, 2, 132300), dtype=np.float64, compression='lzf', chunks=True)\n",
    "drums = f.create_dataset('drums', shape = (n_sections, 2, 132300), dtype=np.float64, compression='lzf', chunks=True)\n",
    "bass = f.create_dataset('bass', shape = (n_sections, 2, 132300), dtype=np.float64, compression='lzf', chunks=True)\n",
    "other = f.create_dataset('other', shape = (n_sections, 2, 132300), dtype=np.float64, compression='lzf', chunks=True)"
   ]
  },
  {
   "cell_type": "code",
   "execution_count": 7,
   "id": "5437010e-7950-495b-adb4-9aa3ed6aed79",
   "metadata": {},
   "outputs": [
    {
     "data": {
      "application/vnd.jupyter.widget-view+json": {
       "model_id": "17d6a1f1ecfd4117a5a137d89c1fd397",
       "version_major": 2,
       "version_minor": 0
      },
      "text/plain": [
       "  0%|          | 0/6347 [00:00<?, ?it/s]"
      ]
     },
     "metadata": {},
     "output_type": "display_data"
    }
   ],
   "source": [
    "progress_bar = tqdm(np.arange(n_sections))\n",
    "section_idx = 0\n",
    "\n",
    "for track in db:\n",
    "    for ii in np.arange(0,len(track.audio)-132300, 132300):\n",
    "        source[section_idx] = track.audio.T[:,ii:(ii+132300)]\n",
    "        vocals[section_idx] = track.targets['vocals'].audio.T[:,ii:(ii+132300)]\n",
    "        drums[section_idx] = track.targets['drums'].audio.T[:,ii:(ii+132300)]\n",
    "        bass[section_idx] = track.targets['bass'].audio.T[:,ii:(ii+132300)]\n",
    "        other[section_idx] = track.targets['other'].audio.T[:,ii:(ii+132300)]\n",
    "        \n",
    "        section_idx+=1\n",
    "        progress_bar.update(1)"
   ]
  },
  {
   "cell_type": "code",
   "execution_count": 8,
   "id": "611626be-b695-4234-83a9-64ea244a8abe",
   "metadata": {},
   "outputs": [
    {
     "name": "stdout",
     "output_type": "stream",
     "text": [
      "CPU times: user 37.1 s, sys: 41.5 s, total: 1min 18s\n",
      "Wall time: 3min 24s\n"
     ]
    }
   ],
   "source": [
    "%%time\n",
    "train_mean = np.mean(source, axis=0, keepdims=True)\n",
    "train_std = np.std(source, axis=0, keepdims=True)"
   ]
  },
  {
   "cell_type": "code",
   "execution_count": 9,
   "id": "dcda364b-2aad-448f-adb4-be0d60abe1cb",
   "metadata": {},
   "outputs": [
    {
     "name": "stdout",
     "output_type": "stream",
     "text": [
      "CPU times: user 166 ms, sys: 8.8 ms, total: 175 ms\n",
      "Wall time: 267 ms\n"
     ]
    }
   ],
   "source": [
    "%%time\n",
    "np.savez_compressed(data_path+\"train_stats.npz\", mean=train_mean, std=train_std)"
   ]
  },
  {
   "cell_type": "code",
   "execution_count": 10,
   "id": "41e5986f-cd63-49ae-94e5-d9fbb4fb2280",
   "metadata": {},
   "outputs": [],
   "source": [
    "f.close()"
   ]
  },
  {
   "cell_type": "code",
   "execution_count": null,
   "id": "af09123c-907b-4048-b587-d8ecb96f602f",
   "metadata": {},
   "outputs": [],
   "source": []
  },
  {
   "cell_type": "code",
   "execution_count": 11,
   "id": "2aaeb211-4439-4e99-9218-6bc0705b6e29",
   "metadata": {},
   "outputs": [
    {
     "name": "stdout",
     "output_type": "stream",
     "text": [
      "CPU times: user 12.9 ms, sys: 35.3 ms, total: 48.2 ms\n",
      "Wall time: 353 ms\n"
     ]
    }
   ],
   "source": [
    "%%time\n",
    "db = musdb.DB(root=musdb_path, subsets=['train'], split='valid')"
   ]
  },
  {
   "cell_type": "code",
   "execution_count": 12,
   "id": "ce2b52a7-c2e2-4879-9ec8-84c51964583f",
   "metadata": {},
   "outputs": [
    {
     "data": {
      "application/vnd.jupyter.widget-view+json": {
       "model_id": "13ef144a73c9458badb8d98ab13b7d05",
       "version_major": 2,
       "version_minor": 0
      },
      "text/plain": [
       "  0%|          | 0/14 [00:00<?, ?it/s]"
      ]
     },
     "metadata": {},
     "output_type": "display_data"
    },
    {
     "name": "stdout",
     "output_type": "stream",
     "text": [
      "CPU times: user 1.28 s, sys: 1.59 s, total: 2.87 s\n",
      "Wall time: 6.65 s\n"
     ]
    }
   ],
   "source": [
    "%%time\n",
    "\n",
    "# Calculamos el tamaño\n",
    "n_sections = 0\n",
    "for track in tqdm(db):\n",
    "    n_sections += int(len(track.audio)/132300)"
   ]
  },
  {
   "cell_type": "code",
   "execution_count": 13,
   "id": "55f6750a-539f-46f1-9acf-d64c04eed531",
   "metadata": {},
   "outputs": [],
   "source": [
    "f = h5py.File(data_path+'val.h5', mode='a')"
   ]
  },
  {
   "cell_type": "code",
   "execution_count": 14,
   "id": "d20e7edf-84c3-4217-9250-b4244ec28113",
   "metadata": {},
   "outputs": [],
   "source": [
    "source = f.create_dataset('source', shape = (n_sections, 2, 132300), dtype=np.float64, compression='lzf', chunks=True)\n",
    "vocals = f.create_dataset('vocals', shape = (n_sections, 2, 132300), dtype=np.float64, compression='lzf', chunks=True)\n",
    "drums = f.create_dataset('drums', shape = (n_sections, 2, 132300), dtype=np.float64, compression='lzf', chunks=True)\n",
    "bass = f.create_dataset('bass', shape = (n_sections, 2, 132300), dtype=np.float64, compression='lzf', chunks=True)\n",
    "other = f.create_dataset('other', shape = (n_sections, 2, 132300), dtype=np.float64, compression='lzf', chunks=True)"
   ]
  },
  {
   "cell_type": "code",
   "execution_count": 15,
   "id": "3db1ae19-d3e6-4a08-9f59-994a6f3df6e1",
   "metadata": {},
   "outputs": [
    {
     "data": {
      "application/vnd.jupyter.widget-view+json": {
       "model_id": "03b90b2eda364dc9bc680d286e1d6673",
       "version_major": 2,
       "version_minor": 0
      },
      "text/plain": [
       "  0%|          | 0/1227 [00:00<?, ?it/s]"
      ]
     },
     "metadata": {},
     "output_type": "display_data"
    }
   ],
   "source": [
    "progress_bar = tqdm(np.arange(n_sections))\n",
    "section_idx = 0\n",
    "\n",
    "for track in db:\n",
    "    for ii in np.arange(0,len(track.audio)-132300, 132300):\n",
    "        source[section_idx] = track.audio.T[:,ii:(ii+132300)]\n",
    "        vocals[section_idx] = track.targets['vocals'].audio.T[:,ii:(ii+132300)]\n",
    "        drums[section_idx] = track.targets['drums'].audio.T[:,ii:(ii+132300)]\n",
    "        bass[section_idx] = track.targets['bass'].audio.T[:,ii:(ii+132300)]\n",
    "        other[section_idx] = track.targets['other'].audio.T[:,ii:(ii+132300)]\n",
    "        \n",
    "        section_idx+=1\n",
    "        progress_bar.update(1)"
   ]
  },
  {
   "cell_type": "code",
   "execution_count": 16,
   "id": "f1c39e7d-4a1d-4d3d-8779-af6c0d6844ea",
   "metadata": {},
   "outputs": [],
   "source": [
    "f.close()"
   ]
  },
  {
   "cell_type": "code",
   "execution_count": null,
   "id": "4845bf71-7c77-45b0-aa8f-7dcb42d2d999",
   "metadata": {},
   "outputs": [],
   "source": []
  },
  {
   "cell_type": "code",
   "execution_count": null,
   "id": "810ef3b6-667d-466e-9b4e-d38ba44eac40",
   "metadata": {},
   "outputs": [],
   "source": []
  },
  {
   "cell_type": "code",
   "execution_count": 17,
   "id": "ed156862-f370-453f-9079-bba8585acdff",
   "metadata": {},
   "outputs": [
    {
     "name": "stdout",
     "output_type": "stream",
     "text": [
      "CPU times: user 19.3 ms, sys: 151 ms, total: 170 ms\n",
      "Wall time: 897 ms\n"
     ]
    }
   ],
   "source": [
    "%%time\n",
    "db = musdb.DB(root=musdb_path, subsets=['test'])"
   ]
  },
  {
   "cell_type": "code",
   "execution_count": 18,
   "id": "bc1e95e8-f0d9-425f-b513-15dc32157be8",
   "metadata": {},
   "outputs": [
    {
     "data": {
      "application/vnd.jupyter.widget-view+json": {
       "model_id": "bf31592f988c42c68f1baf99dc52069c",
       "version_major": 2,
       "version_minor": 0
      },
      "text/plain": [
       "  0%|          | 0/50 [00:00<?, ?it/s]"
      ]
     },
     "metadata": {},
     "output_type": "display_data"
    },
    {
     "name": "stdout",
     "output_type": "stream",
     "text": [
      "CPU times: user 4.31 s, sys: 4.95 s, total: 9.26 s\n",
      "Wall time: 20.2 s\n"
     ]
    }
   ],
   "source": [
    "%%time\n",
    "\n",
    "# Calculamos el tamaño\n",
    "n_sections = 0\n",
    "for track in tqdm(db):\n",
    "    n_sections += int(len(track.audio)/132300)"
   ]
  },
  {
   "cell_type": "code",
   "execution_count": 19,
   "id": "722d7b7e-e609-446c-9e6b-b124e76395ab",
   "metadata": {},
   "outputs": [],
   "source": [
    "f = h5py.File(data_path+'test.h5', mode='a')"
   ]
  },
  {
   "cell_type": "code",
   "execution_count": 20,
   "id": "8445cbfa-743a-442f-8b80-6b5a82605c1d",
   "metadata": {},
   "outputs": [],
   "source": [
    "source = f.create_dataset('source', shape = (n_sections, 2, 132300), dtype=np.float64, compression='lzf', chunks=True)\n",
    "vocals = f.create_dataset('vocals', shape = (n_sections, 2, 132300), dtype=np.float64, compression='lzf', chunks=True)\n",
    "drums = f.create_dataset('drums', shape = (n_sections, 2, 132300), dtype=np.float64, compression='lzf', chunks=True)\n",
    "bass = f.create_dataset('bass', shape = (n_sections, 2, 132300), dtype=np.float64, compression='lzf', chunks=True)\n",
    "other = f.create_dataset('other', shape = (n_sections, 2, 132300), dtype=np.float64, compression='lzf', chunks=True)"
   ]
  },
  {
   "cell_type": "code",
   "execution_count": 21,
   "id": "7780da2b-47e1-4f6d-ad21-4f23968b8f5c",
   "metadata": {},
   "outputs": [
    {
     "data": {
      "application/vnd.jupyter.widget-view+json": {
       "model_id": "a7d37225124f4720a9882448824b1ad8",
       "version_major": 2,
       "version_minor": 0
      },
      "text/plain": [
       "  0%|          | 0/4130 [00:00<?, ?it/s]"
      ]
     },
     "metadata": {},
     "output_type": "display_data"
    }
   ],
   "source": [
    "progress_bar = tqdm(np.arange(n_sections))\n",
    "section_idx = 0\n",
    "\n",
    "for track in db:\n",
    "    for ii in np.arange(0,len(track.audio)-132300, 132300):\n",
    "        source[section_idx] = track.audio.T[:,ii:(ii+132300)]\n",
    "        vocals[section_idx] = track.targets['vocals'].audio.T[:,ii:(ii+132300)]\n",
    "        drums[section_idx] = track.targets['drums'].audio.T[:,ii:(ii+132300)]\n",
    "        bass[section_idx] = track.targets['bass'].audio.T[:,ii:(ii+132300)]\n",
    "        other[section_idx] = track.targets['other'].audio.T[:,ii:(ii+132300)]\n",
    "        \n",
    "        section_idx+=1\n",
    "        progress_bar.update(1)"
   ]
  },
  {
   "cell_type": "code",
   "execution_count": 22,
   "id": "39ebb0a5-1f67-456c-976c-d1e5240c5a7a",
   "metadata": {},
   "outputs": [],
   "source": [
    "f.close()"
   ]
  },
  {
   "cell_type": "code",
   "execution_count": null,
   "id": "bdcf173c-403e-4106-a75d-39084301f937",
   "metadata": {},
   "outputs": [],
   "source": []
  }
 ],
 "metadata": {
  "kernelspec": {
   "display_name": "Python 3",
   "language": "python",
   "name": "python3"
  },
  "language_info": {
   "codemirror_mode": {
    "name": "ipython",
    "version": 3
   },
   "file_extension": ".py",
   "mimetype": "text/x-python",
   "name": "python",
   "nbconvert_exporter": "python",
   "pygments_lexer": "ipython3",
   "version": "3.8.11"
  }
 },
 "nbformat": 4,
 "nbformat_minor": 5
}
